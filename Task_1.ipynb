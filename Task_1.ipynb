def caesar_cipher(text, shift, mode):
    result = ""
    for char in text:
        if char.isalpha():
            if char.islower():
                alphabet = 'abcdefghijklmnopqrstuvwxyz'
            else:
                alphabet = 'ABCDEFGHIJKLMNOPQRSTUVWXYZ'
            shifted_idx = (alphabet.index(char) + shift) % 26
            if mode == 'decrypt':
                shifted_idx = (alphabet.index(char) - shift) % 26
            result += alphabet[shifted_idx]
        else:
            result += char
    return result

while True:
        choice = input("Enter 'e' for encryption, 'd' for decryption, or 'q' to quit: ")
        if choice == 'q':
            break
        elif choice == 'e':
            text = input("Enter the message to encrypt: ")
            shift = int(input("Enter the shift value: "))
            encrypted_text = caesar_cipher(text, shift, 'encrypt')
            print(f"Encrypted message: {encrypted_text}")
        elif choice == 'd':
            text = input("Enter the message to decrypt: ")
            shift = int(input("Enter the shift value: "))
            decrypted_text = caesar_cipher(text, shift, 'decrypt')
            print(f"Decrypted message: {decrypted_text}")
        else:
            print("Invalid choice, please try again.")
     
Enter 'e' for encryption, 'd' for decryption, or 'q' to quit: e
Enter the message to encrypt: Hello How Are You
Enter the shift value: 5
Encrypted message: Mjqqt Mtb Fwj Dtz
Enter 'e' for encryption, 'd' for decryption, or 'q' to quit: d
Enter the message to decrypt: Mjqqt Mtb Fwj Dtz
Enter the shift value: 5
Decrypted message: Hello How Are You
Enter 'e' for encryption, 'd' for decryption, or 'q' to quit: q
